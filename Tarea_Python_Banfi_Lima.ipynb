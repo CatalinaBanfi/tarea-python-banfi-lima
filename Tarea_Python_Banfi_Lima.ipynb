{
  "nbformat": 4,
  "nbformat_minor": 0,
  "metadata": {
    "colab": {
      "name": "Tarea_Python_Banfi_Lima.ipynb",
      "provenance": [],
      "include_colab_link": true
    },
    "kernelspec": {
      "name": "python3",
      "display_name": "Python 3"
    },
    "language_info": {
      "name": "python"
    }
  },
  "cells": [
    {
      "cell_type": "markdown",
      "metadata": {
        "id": "view-in-github",
        "colab_type": "text"
      },
      "source": [
        "<a href=\"https://colab.research.google.com/github/limamatias/tarea-python-banfi-lima/blob/main/Tarea_Python_Banfi_Lima.ipynb\" target=\"_parent\"><img src=\"https://colab.research.google.com/assets/colab-badge.svg\" alt=\"Open In Colab\"/></a>"
      ]
    },
    {
      "cell_type": "code",
      "execution_count": null,
      "metadata": {
        "id": "Wm2U89BLrtvs"
      },
      "outputs": [],
      "source": [
        "'''\n",
        "    Tarea 1 (Python) - Catalina Banfi y Mati­as Lima\n",
        "'''\n",
        "\n",
        "import pandas as pd #Importamos el paquete pandas\n",
        "import matplotlib.pyplot as plt\n",
        "#Llamamos el link raw del archivo subido a GitHub con la base de datos de la tarea\n",
        "url = 'https://raw.githubusercontent.com/limamatias/tarea-python-banfi-lima/main/tarea.csv' "
      ]
    },
    {
      "cell_type": "markdown",
      "source": [
        "**1) Leer el archivo CSV “tarea” y mostrar las primeras 5 filas.**"
      ],
      "metadata": {
        "id": "a58rJEYeaxFn"
      }
    },
    {
      "cell_type": "code",
      "source": [
        "df = pd.read_csv(url) #Leemos el archivo CSV dando como argumento el elemento url, previamente creado.\n",
        "print(df.head(5)) #Seleccionamos el data frame \"df\" y aplicamos la función head(), mediada vía print() para poder imprimir el resultado."
      ],
      "metadata": {
        "colab": {
          "base_uri": "https://localhost:8080/"
        },
        "id": "Oo97mbBAtZ-N",
        "outputId": "33eb84b2-2829-4392-85e1-6ff881b1652d"
      },
      "execution_count": null,
      "outputs": [
        {
          "output_type": "stream",
          "name": "stdout",
          "text": [
            "   carat      cut color clarity  depth  table  price     x     y     z\n",
            "0   0.23    Ideal     E     SI2   61.5   55.0    326  3.95  3.98  2.43\n",
            "1   0.21  Premium     E     SI1   59.8   61.0    326  3.89  3.84  2.31\n",
            "2   0.23     Good     E     VS1   56.9   65.0    327  4.05  4.07  2.31\n",
            "3   0.29  Premium     I     VS2   62.4   58.0    334  4.20  4.23  2.63\n",
            "4   0.31     Good     J     SI2   63.3   58.0    335  4.34  4.35  2.75\n"
          ]
        }
      ]
    },
    {
      "cell_type": "markdown",
      "source": [
        "**2) Leer el archivo CSV “tarea” y mostrar las primeras 3 filas.**"
      ],
      "metadata": {
        "id": "6dAk0URKf3LV"
      }
    },
    {
      "cell_type": "code",
      "source": [
        "df = pd.read_csv(url, nrows= 3) #Leemos el archivo CSV, pero solo seleccionando las 3 primeras columnas.\n",
        "print(df) #Imprimimos el objeto df, teniendo en cuenta que ahora solo consiste con las 3 primeras columnas del archivo CSV."
      ],
      "metadata": {
        "colab": {
          "base_uri": "https://localhost:8080/"
        },
        "id": "dCBi03-_f_lQ",
        "outputId": "22ba02f2-5aa2-4687-860c-2a0258af8476"
      },
      "execution_count": null,
      "outputs": [
        {
          "output_type": "stream",
          "name": "stdout",
          "text": [
            "   carat      cut color clarity  depth  table  price     x     y     z\n",
            "0   0.23    Ideal     E     SI2   61.5     55    326  3.95  3.98  2.43\n",
            "1   0.21  Premium     E     SI1   59.8     61    326  3.89  3.84  2.31\n",
            "2   0.23     Good     E     VS1   56.9     65    327  4.05  4.07  2.31\n"
          ]
        }
      ]
    },
    {
      "cell_type": "markdown",
      "source": [
        "**3) Imprime el contenido de una columna como serie.**"
      ],
      "metadata": {
        "id": "TVlMWW6sgvk2"
      }
    },
    {
      "cell_type": "code",
      "source": [
        "df = pd.read_csv(url) #Leemos el archivo CSV.\n",
        "print(df['carat']) #Imprimimos la selección la primera columna del archivo, \"carat\", como serie."
      ],
      "metadata": {
        "colab": {
          "base_uri": "https://localhost:8080/"
        },
        "id": "rKsn9vsEhdJM",
        "outputId": "49c3e921-2c2d-4782-f7d6-5b9368f72bbe"
      },
      "execution_count": null,
      "outputs": [
        {
          "output_type": "stream",
          "name": "stdout",
          "text": [
            "0        0.23\n",
            "1        0.21\n",
            "2        0.23\n",
            "3        0.29\n",
            "4        0.31\n",
            "         ... \n",
            "53935    0.72\n",
            "53936    0.72\n",
            "53937    0.70\n",
            "53938    0.86\n",
            "53939    0.75\n",
            "Name: carat, Length: 53940, dtype: float64\n"
          ]
        }
      ]
    },
    {
      "cell_type": "markdown",
      "source": [
        "**4) Crear una nueva serie 'calidad-color'.**"
      ],
      "metadata": {
        "id": "wtYWuBlqigbE"
      }
    },
    {
      "cell_type": "code",
      "source": [
        "calidad_color = df[df.columns[1:3]] #Creamos un dataframe con las columnas de df que están entre el inicio de la posición 1 y el de la 3.\n",
        "print(calidad_color) #Imprimimos el resultado."
      ],
      "metadata": {
        "colab": {
          "base_uri": "https://localhost:8080/"
        },
        "id": "5WJGWgdailqT",
        "outputId": "a3c3d6e4-2c70-4827-a2f0-725208cc4d7e"
      },
      "execution_count": null,
      "outputs": [
        {
          "output_type": "stream",
          "name": "stdout",
          "text": [
            "             cut color\n",
            "0          Ideal     E\n",
            "1        Premium     E\n",
            "2           Good     E\n",
            "3        Premium     I\n",
            "4           Good     J\n",
            "...          ...   ...\n",
            "53935      Ideal     D\n",
            "53936       Good     D\n",
            "53937  Very Good     D\n",
            "53938    Premium     H\n",
            "53939      Ideal     D\n",
            "\n",
            "[53940 rows x 2 columns]\n"
          ]
        }
      ]
    },
    {
      "cell_type": "markdown",
      "source": [
        "**5) Encontrar el número de filas y columnas y el tipo de datos de cada columna.**"
      ],
      "metadata": {
        "id": "Qz5DbrX8nrth"
      }
    },
    {
      "cell_type": "code",
      "source": [
        "print(df.shape) #Usamos la función .shape para obtener el número de filas y columnas.\n",
        "print(df.dtypes) #Usamos la función .dtypes para encontrar el tipo de dato de cada columna."
      ],
      "metadata": {
        "colab": {
          "base_uri": "https://localhost:8080/"
        },
        "id": "G1gRptjsnwHw",
        "outputId": "d9ce9c81-2e7e-4fb4-f399-526278f08a55"
      },
      "execution_count": null,
      "outputs": [
        {
          "output_type": "stream",
          "name": "stdout",
          "text": [
            "(53940, 10)\n",
            "carat      float64\n",
            "cut         object\n",
            "color       object\n",
            "clarity     object\n",
            "depth      float64\n",
            "table      float64\n",
            "price        int64\n",
            "x          float64\n",
            "y          float64\n",
            "z          float64\n",
            "dtype: object\n"
          ]
        }
      ]
    },
    {
      "cell_type": "markdown",
      "source": [
        "**6) Resumir sólo las columnas 'objeto'.**"
      ],
      "metadata": {
        "id": "ZOQ5TIblrrx4"
      }
    },
    {
      "cell_type": "code",
      "source": [
        "print(df.describe(include=['object'])) #Imprimimos el resultado de la función .describe, seleccionando solo las columnas de tipo objeto."
      ],
      "metadata": {
        "colab": {
          "base_uri": "https://localhost:8080/"
        },
        "id": "aelmU7Kvr3WZ",
        "outputId": "7f18ee93-93b9-4107-e111-96b877cb1631"
      },
      "execution_count": null,
      "outputs": [
        {
          "output_type": "stream",
          "name": "stdout",
          "text": [
            "          cut  color clarity\n",
            "count   53940  53940   53940\n",
            "unique      5      7       8\n",
            "top     Ideal      G     SI1\n",
            "freq    21551  11292   13065\n"
          ]
        }
      ]
    },
    {
      "cell_type": "markdown",
      "source": [
        "**7) Renombrar dos de las columnas. Imprimir antes y después incluyendo una línea que describa cada una.**"
      ],
      "metadata": {
        "id": "0RYq5_PqtGsQ"
      }
    },
    {
      "cell_type": "code",
      "source": [
        "print(df) #Imprimimos el dataframe original, con los nombres de las columnas originales.\n",
        "df2 = df.rename(columns={'carat':'quilate', 'cut':'corte'}) #Renombramos las columnas 'carat' y 'cut' utilizando la función .rename().\n",
        "print(df2) #Imprimimos el dataframe nuevo, con las dos primeras columnas renombradas."
      ],
      "metadata": {
        "colab": {
          "base_uri": "https://localhost:8080/"
        },
        "id": "x1UDvcIlujrK",
        "outputId": "b06e8af5-a1bd-4a27-9cd1-8807b5244234"
      },
      "execution_count": null,
      "outputs": [
        {
          "output_type": "stream",
          "name": "stdout",
          "text": [
            "       carat        cut color clarity  depth  table  price     x     y     z\n",
            "0       0.23      Ideal     E     SI2   61.5   55.0    326  3.95  3.98  2.43\n",
            "1       0.21    Premium     E     SI1   59.8   61.0    326  3.89  3.84  2.31\n",
            "2       0.23       Good     E     VS1   56.9   65.0    327  4.05  4.07  2.31\n",
            "3       0.29    Premium     I     VS2   62.4   58.0    334  4.20  4.23  2.63\n",
            "4       0.31       Good     J     SI2   63.3   58.0    335  4.34  4.35  2.75\n",
            "...      ...        ...   ...     ...    ...    ...    ...   ...   ...   ...\n",
            "53935   0.72      Ideal     D     SI1   60.8   57.0   2757  5.75  5.76  3.50\n",
            "53936   0.72       Good     D     SI1   63.1   55.0   2757  5.69  5.75  3.61\n",
            "53937   0.70  Very Good     D     SI1   62.8   60.0   2757  5.66  5.68  3.56\n",
            "53938   0.86    Premium     H     SI2   61.0   58.0   2757  6.15  6.12  3.74\n",
            "53939   0.75      Ideal     D     SI2   62.2   55.0   2757  5.83  5.87  3.64\n",
            "\n",
            "[53940 rows x 10 columns]\n",
            "       quilate      corte color clarity  depth  table  price     x     y     z\n",
            "0         0.23      Ideal     E     SI2   61.5   55.0    326  3.95  3.98  2.43\n",
            "1         0.21    Premium     E     SI1   59.8   61.0    326  3.89  3.84  2.31\n",
            "2         0.23       Good     E     VS1   56.9   65.0    327  4.05  4.07  2.31\n",
            "3         0.29    Premium     I     VS2   62.4   58.0    334  4.20  4.23  2.63\n",
            "4         0.31       Good     J     SI2   63.3   58.0    335  4.34  4.35  2.75\n",
            "...        ...        ...   ...     ...    ...    ...    ...   ...   ...   ...\n",
            "53935     0.72      Ideal     D     SI1   60.8   57.0   2757  5.75  5.76  3.50\n",
            "53936     0.72       Good     D     SI1   63.1   55.0   2757  5.69  5.75  3.61\n",
            "53937     0.70  Very Good     D     SI1   62.8   60.0   2757  5.66  5.68  3.56\n",
            "53938     0.86    Premium     H     SI2   61.0   58.0   2757  6.15  6.12  3.74\n",
            "53939     0.75      Ideal     D     SI2   62.2   55.0   2757  5.83  5.87  3.64\n",
            "\n",
            "[53940 rows x 10 columns]\n"
          ]
        }
      ]
    },
    {
      "cell_type": "markdown",
      "source": [
        "**8)\tEliminar la segunda y tercera columna.**"
      ],
      "metadata": {
        "id": "_1r4Lj_DyUUJ"
      }
    },
    {
      "cell_type": "code",
      "source": [
        "df3 = df.drop(columns=['cut','color']) #Eliminamos la segunda y tercer columna del dataframe original, asignando el resultado a otro df.\n",
        "print(df3) #Imprimimos el nuevo df, sin las columnas 'cut' y 'color'."
      ],
      "metadata": {
        "colab": {
          "base_uri": "https://localhost:8080/"
        },
        "id": "QKw4V1AHzxZd",
        "outputId": "468da7f3-ef92-4c47-eb8a-a8f7fd5d3e73"
      },
      "execution_count": null,
      "outputs": [
        {
          "output_type": "stream",
          "name": "stdout",
          "text": [
            "       carat clarity  depth  table  price     x     y     z\n",
            "0       0.23     SI2   61.5   55.0    326  3.95  3.98  2.43\n",
            "1       0.21     SI1   59.8   61.0    326  3.89  3.84  2.31\n",
            "2       0.23     VS1   56.9   65.0    327  4.05  4.07  2.31\n",
            "3       0.29     VS2   62.4   58.0    334  4.20  4.23  2.63\n",
            "4       0.31     SI2   63.3   58.0    335  4.34  4.35  2.75\n",
            "...      ...     ...    ...    ...    ...   ...   ...   ...\n",
            "53935   0.72     SI1   60.8   57.0   2757  5.75  5.76  3.50\n",
            "53936   0.72     SI1   63.1   55.0   2757  5.69  5.75  3.61\n",
            "53937   0.70     SI1   62.8   60.0   2757  5.66  5.68  3.56\n",
            "53938   0.86     SI2   61.0   58.0   2757  6.15  6.12  3.74\n",
            "53939   0.75     SI2   62.2   55.0   2757  5.83  5.87  3.64\n",
            "\n",
            "[53940 rows x 8 columns]\n"
          ]
        }
      ]
    },
    {
      "cell_type": "markdown",
      "source": [
        "**9)\tEliminar múltiples filas a la vez.**"
      ],
      "metadata": {
        "id": "KHsfUnF91Ytt"
      }
    },
    {
      "cell_type": "code",
      "source": [
        "df4 = df.drop(df.index[0:4], axis=0) #Con la función .drop() junto a .index() eliminamos las filas que se encuentran entre el índice 0 y el 4.\n",
        "print(df4) #Imprimimos el resultado."
      ],
      "metadata": {
        "colab": {
          "base_uri": "https://localhost:8080/"
        },
        "id": "gsikupz-1cTJ",
        "outputId": "98702810-52d2-45f1-b35d-ab33201a02b2"
      },
      "execution_count": null,
      "outputs": [
        {
          "output_type": "stream",
          "name": "stdout",
          "text": [
            "       carat        cut color clarity  depth  table  price     x     y     z\n",
            "4       0.31       Good     J     SI2   63.3   58.0    335  4.34  4.35  2.75\n",
            "5       0.24  Very Good     J    VVS2   62.8   57.0    336  3.94   NaN  2.48\n",
            "6       0.24  Very Good     I    VVS1   62.3   57.0    336  3.95  3.98  2.47\n",
            "7       0.26  Very Good     H     SI1   61.9   55.0    337  4.07  4.11  2.53\n",
            "8       0.22       Fair     E     VS2   65.1   61.0    337  3.87  3.78  2.49\n",
            "...      ...        ...   ...     ...    ...    ...    ...   ...   ...   ...\n",
            "53935   0.72      Ideal     D     SI1   60.8   57.0   2757  5.75  5.76  3.50\n",
            "53936   0.72       Good     D     SI1   63.1   55.0   2757  5.69  5.75  3.61\n",
            "53937   0.70  Very Good     D     SI1   62.8   60.0   2757  5.66  5.68  3.56\n",
            "53938   0.86    Premium     H     SI2   61.0   58.0   2757  6.15  6.12  3.74\n",
            "53939   0.75      Ideal     D     SI2   62.2   55.0   2757  5.83  5.87  3.64\n",
            "\n",
            "[53936 rows x 10 columns]\n"
          ]
        }
      ]
    },
    {
      "cell_type": "markdown",
      "source": [
        "**10) Ordenar la columna 'cut' en orden ascendente. ¿Qué tipo de objeto es `cut’ usándolo así?**"
      ],
      "metadata": {
        "id": "cXDrLmhv5qdn"
      }
    },
    {
      "cell_type": "code",
      "source": [
        "df5 = df.cut.sort_values() #Ordenamos la columna 'cut' con .sort_values(), aquí funcionando como un objeto de tipo series, en orden ascendente (no hace falta aclarar parámetros ya que es el default de la función).\n",
        "print(df5) #Imprimimos el resultado."
      ],
      "metadata": {
        "colab": {
          "base_uri": "https://localhost:8080/"
        },
        "id": "-K2pw0Zu5w5o",
        "outputId": "6e51f334-bc10-4ae3-de9c-fb3df75b871b"
      },
      "execution_count": null,
      "outputs": [
        {
          "output_type": "stream",
          "name": "stdout",
          "text": [
            "3850          Fair\n",
            "51464         Fair\n",
            "51466         Fair\n",
            "10237         Fair\n",
            "10760         Fair\n",
            "           ...    \n",
            "7402     Very Good\n",
            "43101    Very Good\n",
            "16893    Very Good\n",
            "16898    Very Good\n",
            "21164    Very Good\n",
            "Name: cut, Length: 53940, dtype: object\n"
          ]
        }
      ]
    },
    {
      "cell_type": "markdown",
      "source": [
        "**11)\tOrdenar toda la base por 'carat' en orden descendente.**"
      ],
      "metadata": {
        "id": "8Y4Cjzef7wCz"
      }
    },
    {
      "cell_type": "code",
      "source": [
        "df6 = df.sort_values(by=['carat'], ascending=False) #Ordenamos toda la base según la columa carat. Ahora si aclaramos que el parámetro ascending, True por default, debe ser False. \n",
        "print(df6) #Imprimimos el resultado."
      ],
      "metadata": {
        "colab": {
          "base_uri": "https://localhost:8080/"
        },
        "id": "w8ZYcdAI8FUp",
        "outputId": "2c33aee1-30b4-4b2e-f3b1-0a74206054af"
      },
      "execution_count": null,
      "outputs": [
        {
          "output_type": "stream",
          "name": "stdout",
          "text": [
            "       carat      cut color clarity  depth  table  price      x      y     z\n",
            "27415   5.01     Fair     J      I1   65.5   59.0  18018  10.74  10.54  6.98\n",
            "27630   4.50     Fair     J      I1   65.8   58.0  18531  10.23  10.16  6.72\n",
            "27130   4.13     Fair     H      I1   64.8   61.0  17329  10.00   9.85  6.43\n",
            "25999   4.01  Premium     J      I1   62.5   62.0  15223  10.02   9.94  6.24\n",
            "25998   4.01  Premium     I      I1   61.0   61.0  15223  10.14  10.10  6.17\n",
            "...      ...      ...   ...     ...    ...    ...    ...    ...    ...   ...\n",
            "31592   0.20  Premium     E     VS2   59.0   60.0    367   3.81   3.78  2.24\n",
            "31591   0.20  Premium     E     VS2   59.8   62.0    367   3.79   3.77  2.26\n",
            "31601   0.20  Premium     D     VS2   61.7   60.0    367   3.77   3.72  2.31\n",
            "14      0.20  Premium     E     SI2   60.2   62.0    345   3.79   3.75  2.27\n",
            "31596   0.20  Premium     F     VS2   62.6   59.0    367   3.73   3.71  2.33\n",
            "\n",
            "[53940 rows x 10 columns]\n"
          ]
        }
      ]
    },
    {
      "cell_type": "markdown",
      "source": [
        "**12)\tFiltrar aquellas filas que x>5, y>5 y z>5.**"
      ],
      "metadata": {
        "id": "-Biu0Auo9LBy"
      }
    },
    {
      "cell_type": "code",
      "source": [
        "df7 = df[(df['x'] > 5) & (df['y'] > 5) & (df['z'] > 5)] #Filtramos la base original teniendo en cuenta las 3 condiciones.\n",
        "print(df7) #Imprimimos los resultados."
      ],
      "metadata": {
        "colab": {
          "base_uri": "https://localhost:8080/"
        },
        "id": "JtoZMVK89S4i",
        "outputId": "3be9af0e-a695-412e-da47-d02c6ebdb6c5"
      },
      "execution_count": null,
      "outputs": [
        {
          "output_type": "stream",
          "name": "stdout",
          "text": [
            "       carat        cut color clarity  depth  table  price     x      y      z\n",
            "11778   1.83       Fair     J      I1   70.0   58.0   5083  7.34   7.28   5.12\n",
            "13002   2.14       Fair     J      I1   69.4   57.0   5405  7.74   7.70   5.36\n",
            "13118   2.15       Fair     J      I1   65.5   57.0   5430  8.01   7.95   5.23\n",
            "13562   1.96       Fair     F      I1   66.6   60.0   5554  7.59   7.56   5.04\n",
            "13757   2.22       Fair     J      I1   66.7   56.0   5607  8.04   8.02   5.36\n",
            "...      ...        ...   ...     ...    ...    ...    ...   ...    ...    ...\n",
            "27748   2.00  Very Good     G     SI1   63.5   56.0  18818  7.90   7.97   5.04\n",
            "27749   2.29    Premium     I     VS2   60.8   60.0  18823  8.50   8.47   5.16\n",
            "48410   0.51  Very Good     E     VS1   61.8   54.7   1970  5.12   5.15  31.80\n",
            "49189   0.51      Ideal     E     VS1   61.8   55.0   2075  5.15  31.80   5.12\n",
            "49905   0.50  Very Good     G    VVS1   63.7   58.0   2180  5.01   5.04   5.06\n",
            "\n",
            "[1457 rows x 10 columns]\n"
          ]
        }
      ]
    },
    {
      "cell_type": "markdown",
      "source": [
        "**13)\tFiltrar las filas para que sólo muestren 'carat' mayor a 0,4.**"
      ],
      "metadata": {
        "id": "uqwNS9tMAOK1"
      }
    },
    {
      "cell_type": "code",
      "source": [
        "df8 = df[(df['carat'] > 0.4)] #Filtramos las filas de la base original para solo quedarnos con aquellas donde 'carat' es mayor a 0,4.\n",
        "print(df8) #Imprimimos los resultados."
      ],
      "metadata": {
        "id": "aqaNA3CvASxX",
        "colab": {
          "base_uri": "https://localhost:8080/"
        },
        "outputId": "5e22975e-fb39-44ee-d5fa-584d270b5f44"
      },
      "execution_count": null,
      "outputs": [
        {
          "output_type": "stream",
          "name": "stdout",
          "text": [
            "       carat        cut color clarity  depth  table  price     x     y     z\n",
            "64      0.42    Premium     I     SI2   61.5   59.0    552  4.78  4.84  2.96\n",
            "90      0.70      Ideal     E     SI1   62.5   57.0   2757  5.70  5.72  3.57\n",
            "91      0.86       Fair     E     SI2   55.1   69.0   2757  6.45  6.33  3.52\n",
            "92      0.70      Ideal     G     VS2   61.6   56.0   2757  5.70  5.67  3.50\n",
            "93      0.71  Very Good     E     VS2   62.4   57.0   2759  5.68  5.73  3.56\n",
            "...      ...        ...   ...     ...    ...    ...    ...   ...   ...   ...\n",
            "53935   0.72      Ideal     D     SI1   60.8   57.0   2757  5.75  5.76  3.50\n",
            "53936   0.72       Good     D     SI1   63.1   55.0   2757  5.69  5.75  3.61\n",
            "53937   0.70  Very Good     D     SI1   62.8   60.0   2757  5.66  5.68  3.56\n",
            "53938   0.86    Premium     H     SI2   61.0   58.0   2757  6.15  6.12  3.74\n",
            "53939   0.75      Ideal     D     SI2   62.2   55.0   2757  5.83  5.87  3.64\n",
            "\n",
            "[39549 rows x 10 columns]\n"
          ]
        }
      ]
    },
    {
      "cell_type": "markdown",
      "source": [
        "**14)\tFiltrar filas que son Premium o Ideal.**"
      ],
      "metadata": {
        "id": "DdWkV8dLOLLF"
      }
    },
    {
      "cell_type": "code",
      "source": [
        "df9 = df[(df['cut'] == 'Premium') | (df['cut'] == 'Ideal')] #Filtramos las filas para que se cumpla una condición o la otra, con el operador |.\n",
        "print(df9) #Imprimimos los resultados."
      ],
      "metadata": {
        "colab": {
          "base_uri": "https://localhost:8080/"
        },
        "id": "tZxmxkTiOUey",
        "outputId": "264c25b6-6cb4-4c28-f471-a3b1964e1688"
      },
      "execution_count": null,
      "outputs": [
        {
          "output_type": "stream",
          "name": "stdout",
          "text": [
            "       carat      cut color clarity  depth  table  price     x     y     z\n",
            "0       0.23    Ideal     E     SI2   61.5   55.0    326  3.95  3.98  2.43\n",
            "1       0.21  Premium     E     SI1   59.8   61.0    326  3.89  3.84  2.31\n",
            "3       0.29  Premium     I     VS2   62.4   58.0    334  4.20  4.23  2.63\n",
            "11      0.23    Ideal     J     VS1   62.8   56.0    340  3.93  3.90  2.46\n",
            "12      0.22  Premium     F     SI1   60.4   61.0    342  3.88  3.84  2.33\n",
            "...      ...      ...   ...     ...    ...    ...    ...   ...   ...   ...\n",
            "53931   0.71  Premium     F     SI1   59.8   62.0   2756  5.74  5.73  3.43\n",
            "53934   0.72  Premium     D     SI1   62.7   59.0   2757  5.69  5.73  3.58\n",
            "53935   0.72    Ideal     D     SI1   60.8   57.0   2757  5.75  5.76  3.50\n",
            "53938   0.86  Premium     H     SI2   61.0   58.0   2757  6.15  6.12  3.74\n",
            "53939   0.75    Ideal     D     SI2   62.2   55.0   2757  5.83  5.87  3.64\n",
            "\n",
            "[35342 rows x 10 columns]\n"
          ]
        }
      ]
    },
    {
      "cell_type": "markdown",
      "source": [
        "**15)\tCalcular summary statistics de  'carat'.**"
      ],
      "metadata": {
        "id": "BIbBBtTFOyeD"
      }
    },
    {
      "cell_type": "code",
      "source": [
        "print(df.carat.describe()) #Imprimimos el resultado de usar la función .describe() en la columna 'carat' del dataframe original."
      ],
      "metadata": {
        "colab": {
          "base_uri": "https://localhost:8080/"
        },
        "id": "WofgoORcO2xq",
        "outputId": "37bef383-c778-4a7d-c9bc-071fa149d70e"
      },
      "execution_count": null,
      "outputs": [
        {
          "output_type": "stream",
          "name": "stdout",
          "text": [
            "count    53940.000000\n",
            "mean         0.797940\n",
            "std          0.474011\n",
            "min          0.200000\n",
            "25%          0.400000\n",
            "50%          0.700000\n",
            "75%          1.040000\n",
            "max          5.010000\n",
            "Name: carat, dtype: float64\n"
          ]
        }
      ]
    },
    {
      "cell_type": "markdown",
      "source": [
        "**16)\tCalcular la media de cada columna numérica.**"
      ],
      "metadata": {
        "id": "DR_PFQeZPXgZ"
      }
    },
    {
      "cell_type": "code",
      "source": [
        "print(df.mean(numeric_only=True)) #Imprimimos el resultado de usar la función .mean(), pasando como parámetro que solo trabaje con columnas numéricas."
      ],
      "metadata": {
        "colab": {
          "base_uri": "https://localhost:8080/"
        },
        "id": "dg8DMbvmPcwP",
        "outputId": "e18bf86c-1a38-44c9-a7a0-294bc75dddb4"
      },
      "execution_count": null,
      "outputs": [
        {
          "output_type": "stream",
          "name": "stdout",
          "text": [
            "carat       0.797940\n",
            "depth      61.749405\n",
            "table      57.457184\n",
            "price    3932.799722\n",
            "x           5.731157\n",
            "y           5.734559\n",
            "z           3.538734\n",
            "dtype: float64\n"
          ]
        }
      ]
    },
    {
      "cell_type": "markdown",
      "source": [
        "**17) Calcular la media del precio de cada tipo de 'cut'**."
      ],
      "metadata": {
        "id": "_cmbm_f7E0jM"
      }
    },
    {
      "cell_type": "code",
      "source": [
        "print(df.groupby('cut').price.mean()) #Imprimimos el resultado de usar la función mean en la columna precio, pero agrupando por tipo de 'cut'."
      ],
      "metadata": {
        "colab": {
          "base_uri": "https://localhost:8080/"
        },
        "id": "iq5faxIvE81A",
        "outputId": "04c1dbe1-a399-4787-8e8e-9a0c5e910fe1"
      },
      "execution_count": null,
      "outputs": [
        {
          "output_type": "stream",
          "name": "stdout",
          "text": [
            "cut\n",
            "Fair         4358.757764\n",
            "Good         3928.864452\n",
            "Ideal        3457.541970\n",
            "Premium      4584.257704\n",
            "Very Good    3981.759891\n",
            "Name: price, dtype: float64\n"
          ]
        }
      ]
    },
    {
      "cell_type": "markdown",
      "source": [
        "**18)\tCalcular la cantidad, el mínimo y el máximo precio para cada 'cut'**."
      ],
      "metadata": {
        "id": "WZ5rvwtPHvbI"
      }
    },
    {
      "cell_type": "code",
      "source": [
        "print((df.groupby('cut').price.agg(['count', 'max', 'min']))) #Imprimimos el resultado de calcular la cantidad de precios dentro de cada grupo. Además, tambien imprimimos el valor máximo y mínimo dentro de cada grupo. "
      ],
      "metadata": {
        "colab": {
          "base_uri": "https://localhost:8080/"
        },
        "id": "-0TFE39MH1Js",
        "outputId": "613f3a03-d9ca-4803-d652-a08d4ab2de5a"
      },
      "execution_count": null,
      "outputs": [
        {
          "output_type": "stream",
          "name": "stdout",
          "text": [
            "           count    max  min\n",
            "cut                         \n",
            "Fair        1610  18574  337\n",
            "Good        4906  18788  327\n",
            "Ideal      21551  18806  326\n",
            "Premium    13791  18823  326\n",
            "Very Good  12082  18818  336\n"
          ]
        }
      ]
    },
    {
      "cell_type": "markdown",
      "source": [
        "**19) Mostrar los valores que puede tomar 'cut'**."
      ],
      "metadata": {
        "id": "jBY8H778J-gl"
      }
    },
    {
      "cell_type": "code",
      "source": [
        "print(df['cut'].unique()) #Con el comando unique podemos ver todos los valores que puede tomar la columna 'cut'."
      ],
      "metadata": {
        "colab": {
          "base_uri": "https://localhost:8080/"
        },
        "id": "lw7LMdTdKH-c",
        "outputId": "70e05a80-5dd8-49fc-f5c3-f6b4f5c089d7"
      },
      "execution_count": null,
      "outputs": [
        {
          "output_type": "stream",
          "name": "stdout",
          "text": [
            "['Ideal' 'Premium' 'Good' 'Very Good' 'Fair']\n"
          ]
        }
      ]
    },
    {
      "cell_type": "markdown",
      "source": [
        "**20)\tContar cuántas veces aparece cada valor de 'cut'**."
      ],
      "metadata": {
        "id": "5GL4KDUmLU4-"
      }
    },
    {
      "cell_type": "code",
      "source": [
        "print((df.cut.value_counts())) #Usamos el comando value_counts para contar cuántas veces se repite cada categoría en la columna 'cut'."
      ],
      "metadata": {
        "colab": {
          "base_uri": "https://localhost:8080/"
        },
        "id": "oyd57ZhPLbBD",
        "outputId": "dbd0cf41-1b98-46a8-e1f4-7faff75f7359"
      },
      "execution_count": null,
      "outputs": [
        {
          "output_type": "stream",
          "name": "stdout",
          "text": [
            "Ideal        21551\n",
            "Premium      13791\n",
            "Very Good    12082\n",
            "Good          4906\n",
            "Fair          1610\n",
            "Name: cut, dtype: int64\n"
          ]
        }
      ]
    },
    {
      "cell_type": "markdown",
      "source": [
        "**21) Mostrar los porcentajes de cada valor de 'cut'**."
      ],
      "metadata": {
        "id": "9BqhAbvPLvgu"
      }
    },
    {
      "cell_type": "code",
      "source": [
        "print(round((df.cut.value_counts()/len(df.index))*100,ndigits=2)) \n",
        "\n",
        "#Tomamos la cuenta del punto anterior y la dividimos por el largo del index (filas) del dataframe, multiplicando esto por 100 y redondeando a 2 decimales.\n"
      ],
      "metadata": {
        "colab": {
          "base_uri": "https://localhost:8080/"
        },
        "id": "2fjNO8NXL4UD",
        "outputId": "bc302e7b-88f9-4a4f-d0ed-e339c3ffd866"
      },
      "execution_count": null,
      "outputs": [
        {
          "output_type": "stream",
          "name": "stdout",
          "text": [
            "Ideal        39.95\n",
            "Premium      25.57\n",
            "Very Good    22.40\n",
            "Good          9.10\n",
            "Fair          2.98\n",
            "Name: cut, dtype: float64\n"
          ]
        }
      ]
    },
    {
      "cell_type": "markdown",
      "source": [
        "**22)\tCalcular una tabla de doble entrada con 'cut' y 'color'**. "
      ],
      "metadata": {
        "id": "ba14hYI5Mb9h"
      }
    },
    {
      "cell_type": "code",
      "source": [
        "df10 = pd.crosstab(df.cut, df.color) #Creamos una tabla de doble entrada con las categorías de 'cut' como filas y los colores como columnas.\n",
        "print(df10) #Imprimimos el cuadro de doble entrada."
      ],
      "metadata": {
        "colab": {
          "base_uri": "https://localhost:8080/"
        },
        "id": "nNtDR9miMgzr",
        "outputId": "63e1d737-ba0e-47f4-9f90-ca2283f919b9"
      },
      "execution_count": null,
      "outputs": [
        {
          "output_type": "stream",
          "name": "stdout",
          "text": [
            "color         D     E     F     G     H     I    J\n",
            "cut                                               \n",
            "Fair        163   224   312   314   303   175  119\n",
            "Good        662   933   909   871   702   522  307\n",
            "Ideal      2834  3903  3826  4884  3115  2093  896\n",
            "Premium    1603  2337  2331  2924  2360  1428  808\n",
            "Very Good  1513  2400  2164  2299  1824  1204  678\n"
          ]
        }
      ]
    },
    {
      "cell_type": "markdown",
      "source": [
        "**23)\tCrear un histograma de 'cut'**."
      ],
      "metadata": {
        "id": "2W3uxSCHOG4e"
      }
    },
    {
      "cell_type": "code",
      "source": [
        "plt.hist(df.cut, bins=5) #Creamos el histograma. \n",
        "plt.xlabel('Calidad') #Elegimos etiqueta para el eje X.\n",
        "plt.ylabel('Frecuencia') #Elegimos etiqueta para el eje Y.\n",
        "plt.title(\"Histograma de 'calidad'\") #Elegimos título para el histograma.\n",
        "plt.show() #Imprimimos el gráfico."
      ],
      "metadata": {
        "colab": {
          "base_uri": "https://localhost:8080/",
          "height": 295
        },
        "id": "UTd1qbWDOOt-",
        "outputId": "1ddc1d43-4f55-4491-bde4-d8e43d579101"
      },
      "execution_count": null,
      "outputs": [
        {
          "output_type": "display_data",
          "data": {
            "text/plain": [
              "<Figure size 432x288 with 1 Axes>"
            ],
            "image/png": "[encoded data removed]"
          },
          "metadata": {
            "needs_background": "light"
          }
        }
      ]
    },
    {
      "cell_type": "markdown",
      "source": [
        "**24)\tCrear un gráfico de barras de 'cut'**."
      ],
      "metadata": {
        "id": "niW4ZfRqPSkL"
      }
    },
    {
      "cell_type": "code",
      "source": [
        "Ejey = (df.cut.value_counts()/53940) #En el eje y graficamos los porcentajes de cada una de las calidades.\n",
        "Ejex = (df['cut'].unique()) #En el eje x pedimos que nos muestre el nombre de las categorías de calidades.\n",
        "plt.title(\"Calidad: porcentaje por categoría\")\n",
        "plt.bar(Ejex, Ejey) #Ploteamos el gráfico.\n",
        "plt.show()\n"
      ],
      "metadata": {
        "colab": {
          "base_uri": "https://localhost:8080/",
          "height": 281
        },
        "id": "3w1APswwPYSx",
        "outputId": "886ff03a-a1f2-43e0-8be1-49acdff4c1f3"
      },
      "execution_count": null,
      "outputs": [
        {
          "output_type": "display_data",
          "data": {
            "text/plain": [
              "<Figure size 432x288 with 1 Axes>"
            ],
            "image/png": "[encoded data removed]"
          },
          "metadata": {
            "needs_background": "light"
          }
        }
      ]
    },
    {
      "cell_type": "markdown",
      "source": [
        "**25)\tContar el número de missing values en cada columna**."
      ],
      "metadata": {
        "id": "Xwam72QxRGdv"
      }
    },
    {
      "cell_type": "code",
      "source": [
        "print(df.isnull().sum()) #Usamos el código isnull().sum() para contar los valores pérdidos en la base de datos."
      ],
      "metadata": {
        "colab": {
          "base_uri": "https://localhost:8080/"
        },
        "id": "hTx9ZBmgRSlI",
        "outputId": "4d95d4e3-0da0-4d7d-ecc7-d8dfbb4fb2d2"
      },
      "execution_count": null,
      "outputs": [
        {
          "output_type": "stream",
          "name": "stdout",
          "text": [
            "carat      0\n",
            "cut        0\n",
            "color      0\n",
            "clarity    0\n",
            "depth      0\n",
            "table      0\n",
            "price      0\n",
            "x          0\n",
            "y          1\n",
            "z          0\n",
            "dtype: int64\n"
          ]
        }
      ]
    },
    {
      "cell_type": "markdown",
      "source": [
        "**26)\tComprobar el número de filas y columnas y eliminarlas si falta algún valor en una fila**."
      ],
      "metadata": {
        "id": "mH4hYmtGRbYP"
      }
    },
    {
      "cell_type": "code",
      "source": [
        "df11 =df.dropna(how='any') #Eliminamos la unica fila con un valor perdido (segun el punto anterior). \n",
        "print(df11)\n",
        "#Notar que en el punto 5) calculamos que habia 53940 filas, y ahora aparece que hay 53939 filas."
      ],
      "metadata": {
        "colab": {
          "base_uri": "https://localhost:8080/"
        },
        "id": "iX94U4H3SOFL",
        "outputId": "48f276ad-ba9f-4f92-e8d7-41661fbfc87b"
      },
      "execution_count": null,
      "outputs": [
        {
          "output_type": "stream",
          "name": "stdout",
          "text": [
            "       carat        cut color clarity  depth  table  price     x     y     z\n",
            "0       0.23      Ideal     E     SI2   61.5   55.0    326  3.95  3.98  2.43\n",
            "1       0.21    Premium     E     SI1   59.8   61.0    326  3.89  3.84  2.31\n",
            "2       0.23       Good     E     VS1   56.9   65.0    327  4.05  4.07  2.31\n",
            "3       0.29    Premium     I     VS2   62.4   58.0    334  4.20  4.23  2.63\n",
            "4       0.31       Good     J     SI2   63.3   58.0    335  4.34  4.35  2.75\n",
            "...      ...        ...   ...     ...    ...    ...    ...   ...   ...   ...\n",
            "53935   0.72      Ideal     D     SI1   60.8   57.0   2757  5.75  5.76  3.50\n",
            "53936   0.72       Good     D     SI1   63.1   55.0   2757  5.69  5.75  3.61\n",
            "53937   0.70  Very Good     D     SI1   62.8   60.0   2757  5.66  5.68  3.56\n",
            "53938   0.86    Premium     H     SI2   61.0   58.0   2757  6.15  6.12  3.74\n",
            "53939   0.75      Ideal     D     SI2   62.2   55.0   2757  5.83  5.87  3.64\n",
            "\n",
            "[53939 rows x 10 columns]\n"
          ]
        }
      ]
    },
    {
      "cell_type": "markdown",
      "source": [
        "**27)\tEliminar una fila si faltan todos los valores**."
      ],
      "metadata": {
        "id": "tjSGGjV5UA8j"
      }
    },
    {
      "cell_type": "code",
      "source": [
        "df12 = df.dropna(how='all')\n",
        "print(df12) #En este caso, no se eliminaron filas porque no hay ninguna totalmente incompleta."
      ],
      "metadata": {
        "colab": {
          "base_uri": "https://localhost:8080/"
        },
        "id": "YMMHqjg4UD8U",
        "outputId": "53ed6855-dfe0-4f4b-b8fb-891c189e964f"
      },
      "execution_count": null,
      "outputs": [
        {
          "output_type": "stream",
          "name": "stdout",
          "text": [
            "       carat        cut color clarity  depth  table  price     x     y     z\n",
            "0       0.23      Ideal     E     SI2   61.5   55.0    326  3.95  3.98  2.43\n",
            "1       0.21    Premium     E     SI1   59.8   61.0    326  3.89  3.84  2.31\n",
            "2       0.23       Good     E     VS1   56.9   65.0    327  4.05  4.07  2.31\n",
            "3       0.29    Premium     I     VS2   62.4   58.0    334  4.20  4.23  2.63\n",
            "4       0.31       Good     J     SI2   63.3   58.0    335  4.34  4.35  2.75\n",
            "...      ...        ...   ...     ...    ...    ...    ...   ...   ...   ...\n",
            "53935   0.72      Ideal     D     SI1   60.8   57.0   2757  5.75  5.76  3.50\n",
            "53936   0.72       Good     D     SI1   63.1   55.0   2757  5.69  5.75  3.61\n",
            "53937   0.70  Very Good     D     SI1   62.8   60.0   2757  5.66  5.68  3.56\n",
            "53938   0.86    Premium     H     SI2   61.0   58.0   2757  6.15  6.12  3.74\n",
            "53939   0.75      Ideal     D     SI2   62.2   55.0   2757  5.83  5.87  3.64\n",
            "\n",
            "[53940 rows x 10 columns]\n"
          ]
        }
      ]
    },
    {
      "cell_type": "markdown",
      "source": [
        "**28)\tMostrar las filas 0, 2, 5 y todas las columnas**."
      ],
      "metadata": {
        "id": "TBLArZWiU8Ra"
      }
    },
    {
      "cell_type": "code",
      "source": [
        "print(df.iloc[[0,2,5]]) #Con este código podemos ver las columnas seleccionadas."
      ],
      "metadata": {
        "colab": {
          "base_uri": "https://localhost:8080/"
        },
        "id": "Zdqs1SF5VQjG",
        "outputId": "091e7d5b-6454-4249-bfc2-d5f0223fdeeb"
      },
      "execution_count": null,
      "outputs": [
        {
          "output_type": "stream",
          "name": "stdout",
          "text": [
            "   carat        cut color clarity  depth  table  price     x     y     z\n",
            "0   0.23      Ideal     E     SI2   61.5   55.0    326  3.95  3.98  2.43\n",
            "2   0.23       Good     E     VS1   56.9   65.0    327  4.05  4.07  2.31\n",
            "5   0.24  Very Good     J    VVS2   62.8   57.0    336  3.94   NaN  2.48\n"
          ]
        }
      ]
    },
    {
      "cell_type": "markdown",
      "source": [
        "**29)\tMostrar las filas 0 a 2 (inclusive) y las columnas 'color' y 'precio'**. "
      ],
      "metadata": {
        "id": "aNKcZoBce5d_"
      }
    },
    {
      "cell_type": "code",
      "source": [
        "print(df.iloc[[0,1,2], [2,6]]) #Usamos el comando iloc para filtrar por filas y columnas al mismo tiempo."
      ],
      "metadata": {
        "colab": {
          "base_uri": "https://localhost:8080/"
        },
        "id": "Zlsan6cdfB2O",
        "outputId": "560d0081-a30f-4671-fd1d-755d55bc1122"
      },
      "execution_count": null,
      "outputs": [
        {
          "output_type": "stream",
          "name": "stdout",
          "text": [
            "  color  price\n",
            "0     E    326\n",
            "1     E    326\n",
            "2     E    327\n"
          ]
        }
      ]
    },
    {
      "cell_type": "markdown",
      "source": [
        "**30) Mostrar las filas en las que la 'cut' es 'Premium' más la columna 'color'**."
      ],
      "metadata": {
        "id": "wUgAVkhxjNRu"
      }
    },
    {
      "cell_type": "code",
      "source": [
        "df13 = df[(df['cut'] == 'Premium')] #Filtramos la base por las filas donde la calidad es 'Premium'.\n",
        "print(df13.iloc[:,[2]]) #Sobre el filtro anterior pedimos que nos muestre nada mas la columna color."
      ],
      "metadata": {
        "colab": {
          "base_uri": "https://localhost:8080/"
        },
        "id": "RqaqFJR8jWP2",
        "outputId": "809d303b-9fba-412c-a220-f0eebc073bb4"
      },
      "execution_count": null,
      "outputs": [
        {
          "output_type": "stream",
          "name": "stdout",
          "text": [
            "      color\n",
            "1         E\n",
            "3         I\n",
            "12        F\n",
            "14        E\n",
            "15        E\n",
            "...     ...\n",
            "53928     E\n",
            "53930     E\n",
            "53931     F\n",
            "53934     D\n",
            "53938     H\n",
            "\n",
            "[13791 rows x 1 columns]\n"
          ]
        }
      ]
    },
    {
      "cell_type": "markdown",
      "source": [
        "**31) Obtener 5 filas de muestra al azar**."
      ],
      "metadata": {
        "id": "l_aOjviVjiKU"
      }
    },
    {
      "cell_type": "code",
      "source": [
        "print(df.sample(5)) #Imprimimos cinco filas al azar"
      ],
      "metadata": {
        "colab": {
          "base_uri": "https://localhost:8080/"
        },
        "id": "FZdv6J8pjlbw",
        "outputId": "f658386e-2195-4fd7-f379-4b7cfcbcdd5b"
      },
      "execution_count": null,
      "outputs": [
        {
          "output_type": "stream",
          "name": "stdout",
          "text": [
            "       carat      cut color clarity  depth  table  price     x     y     z\n",
            "18883   1.24    Ideal     H     VS1   61.6   56.0   7743  6.95  6.87  4.26\n",
            "6639    0.85    Ideal     E     SI1   63.0   56.0   4089  6.00  6.04  3.79\n",
            "13258   0.90     Good     F    VVS2   61.8   63.0   5480  6.14  6.19  3.81\n",
            "53396   0.72  Premium     E     SI1   61.3   58.0   2666  5.81  5.78  3.55\n",
            "6820    1.07  Premium     H     SI2   62.2   59.0   4119  6.47  6.53  4.04\n"
          ]
        }
      ]
    },
    {
      "cell_type": "markdown",
      "source": [
        "**32)\tObtener una muestra del 75% de las filas sin reemplazarlas**."
      ],
      "metadata": {
        "id": "fCFP_PAJj0yo"
      }
    },
    {
      "cell_type": "code",
      "source": [
        "print(df.sample(frac=0.75, random_state=1)) #Con df.sample podemos crear una base que se compone 75% de la original, aunque sin reemplazar las filas originales."
      ],
      "metadata": {
        "colab": {
          "base_uri": "https://localhost:8080/"
        },
        "id": "9mR0wFKKj4d2",
        "outputId": "dc9d1835-429b-4fe9-dd2b-201f08002cb2"
      },
      "execution_count": null,
      "outputs": [
        {
          "output_type": "stream",
          "name": "stdout",
          "text": [
            "       carat        cut color clarity  depth  table  price     x     y     z\n",
            "2714    0.33      Ideal     H     SI1   61.7   55.0    564  4.43  4.46  2.74\n",
            "14653   1.20      Ideal     I     VS2   62.1   57.0   5914  6.78  6.71  4.19\n",
            "52760   0.62      Ideal     D     VS1   61.0   57.0   2562  5.51  5.54  3.37\n",
            "48658   0.34       Good     H     VS2   63.1   56.0    537  4.41  4.46  2.80\n",
            "14812   1.20      Ideal     E     SI2   62.5   55.0   5964  6.77  6.84  4.25\n",
            "...      ...        ...   ...     ...    ...    ...    ...   ...   ...   ...\n",
            "27598   2.50    Premium     I     SI2   59.0   60.0  18447  8.76  8.89  5.21\n",
            "39036   0.37      Ideal     G      IF   61.4   55.0   1056  4.63  4.66  2.85\n",
            "21461   1.55  Very Good     E     SI2   59.5   56.0   9557  7.56  7.59  4.51\n",
            "11572   1.02    Premium     F     SI1   59.2   58.0   5038  6.53  6.50  3.86\n",
            "29372   0.31    Premium     E     SI1   59.3   59.0    698  4.48  4.42  2.64\n",
            "\n",
            "[40455 rows x 10 columns]\n"
          ]
        }
      ]
    },
    {
      "cell_type": "markdown",
      "source": [
        "**33)\tContar las filas duplicadas**."
      ],
      "metadata": {
        "id": "l9Kc3Lw_k0fa"
      }
    },
    {
      "cell_type": "code",
      "source": [
        "print(df[df.duplicated()]) #Con este comando, mostramos todas las filas que se encuentran duplicadas."
      ],
      "metadata": {
        "colab": {
          "base_uri": "https://localhost:8080/"
        },
        "id": "_luUfYJmk4CD",
        "outputId": "ff2334c5-4e5e-455e-b040-a8220d9d730e"
      },
      "execution_count": null,
      "outputs": [
        {
          "output_type": "stream",
          "name": "stdout",
          "text": [
            "       carat    cut color clarity  depth  table  price     x     y     z\n",
            "1005    0.79  Ideal     G     SI1   62.3   57.0   2898  5.90  5.85  3.66\n",
            "1006    0.79  Ideal     G     SI1   62.3   57.0   2898  5.90  5.85  3.66\n",
            "1007    0.79  Ideal     G     SI1   62.3   57.0   2898  5.90  5.85  3.66\n",
            "1008    0.79  Ideal     G     SI1   62.3   57.0   2898  5.90  5.85  3.66\n",
            "2025    1.52   Good     E      I1   57.3   58.0   3105  7.53  7.42  4.28\n",
            "...      ...    ...   ...     ...    ...    ...    ...   ...   ...   ...\n",
            "47969   0.52  Ideal     D     VS2   61.8   55.0   1919  5.19  5.16  3.20\n",
            "49326   0.51  Ideal     F    VVS2   61.2   56.0   2093  5.17  5.19  3.17\n",
            "49557   0.71   Good     F     SI2   64.1   60.0   2130  0.00  0.00  0.00\n",
            "50079   0.51  Ideal     F    VVS2   61.2   56.0   2203  5.19  5.17  3.17\n",
            "52861   0.50   Fair     E     VS2   79.0   73.0   2579  5.21  5.18  4.09\n",
            "\n",
            "[146 rows x 10 columns]\n"
          ]
        }
      ]
    }
  ]
}