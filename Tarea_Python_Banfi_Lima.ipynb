{
  "nbformat": 4,
  "nbformat_minor": 0,
  "metadata": {
    "colab": {
      "name": "Tarea_Python_Banfi_Lima.ipynb",
      "provenance": [],
      "authorship_tag": "ABX9TyPmfMtlIefY2DQQPNbIZbI8",
      "include_colab_link": true
    },
    "kernelspec": {
      "name": "python3",
      "display_name": "Python 3"
    },
    "language_info": {
      "name": "python"
    }
  },
  "cells": [
    {
      "cell_type": "markdown",
      "metadata": {
        "id": "view-in-github",
        "colab_type": "text"
      },
      "source": [
        "<a href=\"https://colab.research.google.com/github/limamatias/tarea-python-banfi-lima/blob/main/Tarea_Python_Banfi_Lima.ipynb\" target=\"_parent\"><img src=\"https://colab.research.google.com/assets/colab-badge.svg\" alt=\"Open In Colab\"/></a>"
      ]
    },
    {
      "cell_type": "code",
      "execution_count": null,
      "metadata": {
        "id": "Wm2U89BLrtvs"
      },
      "outputs": [],
      "source": [
        "'''\n",
        "    Tarea 1 (Python) - Catalina Banfi y Mati­as Lima\n",
        "'''\n",
        "\n",
        "import pandas as pd #Importamos el paquete pandas\n",
        "#Llamamos el link raw del archivo subido a GitHub con la base de datos de la tarea\n",
        "url = 'https://raw.githubusercontent.com/limamatias/tarea-python-banfi-lima/main/tarea.csv' "
      ]
    },
    {
      "cell_type": "markdown",
      "source": [
        "**1) Leer el archivo CSV “tarea” y mostrar las primeras 5 filas.**"
      ],
      "metadata": {
        "id": "a58rJEYeaxFn"
      }
    },
    {
      "cell_type": "code",
      "source": [
        "df = pd.read_csv(url) #Leemos el archivo CSV dando como argumento el elemento url, previamente creado.\n",
        "print(df.head(5)) #Seleccionamos el data frame \"df\" y aplicamos la función head(), mediada vía print() para poder imprimir el resultado."
      ],
      "metadata": {
        "colab": {
          "base_uri": "https://localhost:8080/"
        },
        "id": "Oo97mbBAtZ-N",
        "outputId": "91ae9795-bf9f-4ed1-f0ef-bc927ea512c2"
      },
      "execution_count": null,
      "outputs": [
        {
          "output_type": "stream",
          "name": "stdout",
          "text": [
            "   carat      cut color clarity  depth  table  price     x     y     z\n",
            "0   0.23    Ideal     E     SI2   61.5   55.0    326  3.95  3.98  2.43\n",
            "1   0.21  Premium     E     SI1   59.8   61.0    326  3.89  3.84  2.31\n",
            "2   0.23     Good     E     VS1   56.9   65.0    327  4.05  4.07  2.31\n",
            "3   0.29  Premium     I     VS2   62.4   58.0    334  4.20  4.23  2.63\n",
            "4   0.31     Good     J     SI2   63.3   58.0    335  4.34  4.35  2.75\n"
          ]
        }
      ]
    },
    {
      "cell_type": "markdown",
      "source": [
        "**2) Leer el archivo CSV “tarea” y mostrar las primeras 3 filas.**"
      ],
      "metadata": {
        "id": "6dAk0URKf3LV"
      }
    },
    {
      "cell_type": "code",
      "source": [
        "df = pd.read_csv(url, nrows= 3) #Leemos el archivo CSV, pero solo seleccionando las 3 primeras columnas.\n",
        "print(df) #Imprimimos el objeto df, teniendo en cuenta que ahora solo consiste con las 3 primeras columnas del archivo CSV."
      ],
      "metadata": {
        "colab": {
          "base_uri": "https://localhost:8080/"
        },
        "id": "dCBi03-_f_lQ",
        "outputId": "b49d2859-ab20-4419-c62f-139e72052356"
      },
      "execution_count": null,
      "outputs": [
        {
          "output_type": "stream",
          "name": "stdout",
          "text": [
            "   carat      cut color clarity  depth  table  price     x     y     z\n",
            "0   0.23    Ideal     E     SI2   61.5     55    326  3.95  3.98  2.43\n",
            "1   0.21  Premium     E     SI1   59.8     61    326  3.89  3.84  2.31\n",
            "2   0.23     Good     E     VS1   56.9     65    327  4.05  4.07  2.31\n"
          ]
        }
      ]
    },
    {
      "cell_type": "markdown",
      "source": [
        "**3) Imprime el contenido de una columna como serie.**"
      ],
      "metadata": {
        "id": "TVlMWW6sgvk2"
      }
    },
    {
      "cell_type": "code",
      "source": [
        "df = pd.read_csv(url) #Leemos el archivo CSV.\n",
        "print(df['carat']) #Imprimimos la selección la primera columna del archivo, \"carat\", como serie."
      ],
      "metadata": {
        "colab": {
          "base_uri": "https://localhost:8080/"
        },
        "id": "rKsn9vsEhdJM",
        "outputId": "c3ca52b8-919f-444d-f1ba-4883dab87a49"
      },
      "execution_count": null,
      "outputs": [
        {
          "output_type": "stream",
          "name": "stdout",
          "text": [
            "0        0.23\n",
            "1        0.21\n",
            "2        0.23\n",
            "3        0.29\n",
            "4        0.31\n",
            "         ... \n",
            "53935    0.72\n",
            "53936    0.72\n",
            "53937    0.70\n",
            "53938    0.86\n",
            "53939    0.75\n",
            "Name: carat, Length: 53940, dtype: float64\n"
          ]
        }
      ]
    },
    {
      "cell_type": "markdown",
      "source": [
        "**4) Crear una nueva serie 'calidad-color'.**"
      ],
      "metadata": {
        "id": "wtYWuBlqigbE"
      }
    },
    {
      "cell_type": "code",
      "source": [
        "calidad_color = df[df.columns[1:3]] #Creamos un dataframe con las columnas de df que están entre el inicio de la posición 1 y el de la 3.\n",
        "print(calidad_color) #Imprimimos el resultado."
      ],
      "metadata": {
        "colab": {
          "base_uri": "https://localhost:8080/"
        },
        "id": "5WJGWgdailqT",
        "outputId": "0d8e1b5d-15ef-433a-9d2b-c24804563f38"
      },
      "execution_count": 184,
      "outputs": [
        {
          "output_type": "stream",
          "name": "stdout",
          "text": [
            "             cut color\n",
            "0          Ideal     E\n",
            "1        Premium     E\n",
            "2           Good     E\n",
            "3        Premium     I\n",
            "4           Good     J\n",
            "...          ...   ...\n",
            "53935      Ideal     D\n",
            "53936       Good     D\n",
            "53937  Very Good     D\n",
            "53938    Premium     H\n",
            "53939      Ideal     D\n",
            "\n",
            "[53940 rows x 2 columns]\n"
          ]
        }
      ]
    },
    {
      "cell_type": "markdown",
      "source": [
        "**5) Encontrar el número de filas y columnas y el tipo de datos de cada columna.**"
      ],
      "metadata": {
        "id": "Qz5DbrX8nrth"
      }
    },
    {
      "cell_type": "code",
      "source": [
        "print(df.shape) #Usamos la función .shape para obtener el número de filas y columnas.\n",
        "print(df.dtypes) #Usamos la función .dtypes para encontrar el tipo de dato de cada columna."
      ],
      "metadata": {
        "colab": {
          "base_uri": "https://localhost:8080/"
        },
        "id": "G1gRptjsnwHw",
        "outputId": "465b81b1-6025-43ed-befb-5891b5cb9192"
      },
      "execution_count": null,
      "outputs": [
        {
          "output_type": "stream",
          "name": "stdout",
          "text": [
            "(53940, 10)\n",
            "carat      float64\n",
            "cut         object\n",
            "color       object\n",
            "clarity     object\n",
            "depth      float64\n",
            "table      float64\n",
            "price        int64\n",
            "x          float64\n",
            "y          float64\n",
            "z          float64\n",
            "dtype: object\n"
          ]
        }
      ]
    },
    {
      "cell_type": "markdown",
      "source": [
        "**6) Resumir sólo las columnas 'objeto'.**"
      ],
      "metadata": {
        "id": "ZOQ5TIblrrx4"
      }
    },
    {
      "cell_type": "code",
      "source": [
        "print(df.describe(include=['object'])) #Imprimimos el resultado de la función .describe, seleccionando solo las columnas de tipo objeto."
      ],
      "metadata": {
        "colab": {
          "base_uri": "https://localhost:8080/"
        },
        "id": "aelmU7Kvr3WZ",
        "outputId": "55b261f0-3259-4afd-c90d-7f4f17be90f0"
      },
      "execution_count": null,
      "outputs": [
        {
          "output_type": "stream",
          "name": "stdout",
          "text": [
            "          cut  color clarity\n",
            "count   53940  53940   53940\n",
            "unique      5      7       8\n",
            "top     Ideal      G     SI1\n",
            "freq    21551  11292   13065\n"
          ]
        }
      ]
    },
    {
      "cell_type": "markdown",
      "source": [
        "**7) Renombrar dos de las columnas. Imprimir antes y después incluyendo una línea que describa cada una.**"
      ],
      "metadata": {
        "id": "0RYq5_PqtGsQ"
      }
    },
    {
      "cell_type": "code",
      "source": [
        "print(df) #Imprimimos el dataframe original, con los nombres de las columnas originales.\n",
        "df2 = df.rename(columns={'carat':'quilate', 'cut':'corte'}) #Renombramos las columnas 'carat' y 'cut' utilizando la función .rename().\n",
        "print(df2) #Imprimimos el dataframe nuevo, con las dos primeras columnas renombradas."
      ],
      "metadata": {
        "colab": {
          "base_uri": "https://localhost:8080/"
        },
        "id": "x1UDvcIlujrK",
        "outputId": "ab0a676c-2456-4e92-91e6-bd7e93384de7"
      },
      "execution_count": null,
      "outputs": [
        {
          "output_type": "stream",
          "name": "stdout",
          "text": [
            "       carat        cut color clarity  depth  table  price     x     y     z\n",
            "0       0.23      Ideal     E     SI2   61.5   55.0    326  3.95  3.98  2.43\n",
            "1       0.21    Premium     E     SI1   59.8   61.0    326  3.89  3.84  2.31\n",
            "2       0.23       Good     E     VS1   56.9   65.0    327  4.05  4.07  2.31\n",
            "3       0.29    Premium     I     VS2   62.4   58.0    334  4.20  4.23  2.63\n",
            "4       0.31       Good     J     SI2   63.3   58.0    335  4.34  4.35  2.75\n",
            "...      ...        ...   ...     ...    ...    ...    ...   ...   ...   ...\n",
            "53935   0.72      Ideal     D     SI1   60.8   57.0   2757  5.75  5.76  3.50\n",
            "53936   0.72       Good     D     SI1   63.1   55.0   2757  5.69  5.75  3.61\n",
            "53937   0.70  Very Good     D     SI1   62.8   60.0   2757  5.66  5.68  3.56\n",
            "53938   0.86    Premium     H     SI2   61.0   58.0   2757  6.15  6.12  3.74\n",
            "53939   0.75      Ideal     D     SI2   62.2   55.0   2757  5.83  5.87  3.64\n",
            "\n",
            "[53940 rows x 10 columns]\n",
            "       quilate      corte color clarity  depth  table  price     x     y     z\n",
            "0         0.23      Ideal     E     SI2   61.5   55.0    326  3.95  3.98  2.43\n",
            "1         0.21    Premium     E     SI1   59.8   61.0    326  3.89  3.84  2.31\n",
            "2         0.23       Good     E     VS1   56.9   65.0    327  4.05  4.07  2.31\n",
            "3         0.29    Premium     I     VS2   62.4   58.0    334  4.20  4.23  2.63\n",
            "4         0.31       Good     J     SI2   63.3   58.0    335  4.34  4.35  2.75\n",
            "...        ...        ...   ...     ...    ...    ...    ...   ...   ...   ...\n",
            "53935     0.72      Ideal     D     SI1   60.8   57.0   2757  5.75  5.76  3.50\n",
            "53936     0.72       Good     D     SI1   63.1   55.0   2757  5.69  5.75  3.61\n",
            "53937     0.70  Very Good     D     SI1   62.8   60.0   2757  5.66  5.68  3.56\n",
            "53938     0.86    Premium     H     SI2   61.0   58.0   2757  6.15  6.12  3.74\n",
            "53939     0.75      Ideal     D     SI2   62.2   55.0   2757  5.83  5.87  3.64\n",
            "\n",
            "[53940 rows x 10 columns]\n"
          ]
        }
      ]
    },
    {
      "cell_type": "markdown",
      "source": [
        "**8)\tEliminar la segunda y tercer columna.**"
      ],
      "metadata": {
        "id": "_1r4Lj_DyUUJ"
      }
    },
    {
      "cell_type": "code",
      "source": [
        "df3 = df.drop(columns=['cut','color']) #Eliminamos la segunda y tercer columna del dataframe original, asignando el resultado a otro df.\n",
        "print(df3) #Imprimimos el nuevo df, sin las columnas 'cut' y 'color'."
      ],
      "metadata": {
        "colab": {
          "base_uri": "https://localhost:8080/"
        },
        "id": "QKw4V1AHzxZd",
        "outputId": "df83b624-4a17-4db1-d4f3-4c5c33fd1474"
      },
      "execution_count": null,
      "outputs": [
        {
          "output_type": "stream",
          "name": "stdout",
          "text": [
            "       carat clarity  depth  table  price     x     y     z\n",
            "0       0.23     SI2   61.5   55.0    326  3.95  3.98  2.43\n",
            "1       0.21     SI1   59.8   61.0    326  3.89  3.84  2.31\n",
            "2       0.23     VS1   56.9   65.0    327  4.05  4.07  2.31\n",
            "3       0.29     VS2   62.4   58.0    334  4.20  4.23  2.63\n",
            "4       0.31     SI2   63.3   58.0    335  4.34  4.35  2.75\n",
            "...      ...     ...    ...    ...    ...   ...   ...   ...\n",
            "53935   0.72     SI1   60.8   57.0   2757  5.75  5.76  3.50\n",
            "53936   0.72     SI1   63.1   55.0   2757  5.69  5.75  3.61\n",
            "53937   0.70     SI1   62.8   60.0   2757  5.66  5.68  3.56\n",
            "53938   0.86     SI2   61.0   58.0   2757  6.15  6.12  3.74\n",
            "53939   0.75     SI2   62.2   55.0   2757  5.83  5.87  3.64\n",
            "\n",
            "[53940 rows x 8 columns]\n"
          ]
        }
      ]
    },
    {
      "cell_type": "markdown",
      "source": [
        "**9)\tEliminar múltiples filas a la vez.**"
      ],
      "metadata": {
        "id": "KHsfUnF91Ytt"
      }
    },
    {
      "cell_type": "code",
      "source": [
        "df4 = df.drop(df.index[0:4], axis=0) #Con la función .drop() junto a .index() eliminamos las filas que se encuentran entre el índice 0 y el 4.\n",
        "print(df4) #Imprimimos el resultado."
      ],
      "metadata": {
        "colab": {
          "base_uri": "https://localhost:8080/"
        },
        "id": "gsikupz-1cTJ",
        "outputId": "c257fb68-52ea-4cac-c7e6-b82435e26e56"
      },
      "execution_count": null,
      "outputs": [
        {
          "output_type": "stream",
          "name": "stdout",
          "text": [
            "       carat        cut color clarity  depth  table  price     x     y     z\n",
            "4       0.31       Good     J     SI2   63.3   58.0    335  4.34  4.35  2.75\n",
            "5       0.24  Very Good     J    VVS2   62.8   57.0    336  3.94   NaN  2.48\n",
            "6       0.24  Very Good     I    VVS1   62.3   57.0    336  3.95  3.98  2.47\n",
            "7       0.26  Very Good     H     SI1   61.9   55.0    337  4.07  4.11  2.53\n",
            "8       0.22       Fair     E     VS2   65.1   61.0    337  3.87  3.78  2.49\n",
            "...      ...        ...   ...     ...    ...    ...    ...   ...   ...   ...\n",
            "53935   0.72      Ideal     D     SI1   60.8   57.0   2757  5.75  5.76  3.50\n",
            "53936   0.72       Good     D     SI1   63.1   55.0   2757  5.69  5.75  3.61\n",
            "53937   0.70  Very Good     D     SI1   62.8   60.0   2757  5.66  5.68  3.56\n",
            "53938   0.86    Premium     H     SI2   61.0   58.0   2757  6.15  6.12  3.74\n",
            "53939   0.75      Ideal     D     SI2   62.2   55.0   2757  5.83  5.87  3.64\n",
            "\n",
            "[53936 rows x 10 columns]\n"
          ]
        }
      ]
    },
    {
      "cell_type": "markdown",
      "source": [
        "**10) Ordenar la columna 'cut' en orden ascendente. ¿Qué tipo de objeto es `cut’ usándolo así?**"
      ],
      "metadata": {
        "id": "cXDrLmhv5qdn"
      }
    },
    {
      "cell_type": "code",
      "source": [
        "df5 = df.cut.sort_values() #Ordenamos la columna 'cut' con .sort_values(), aquí funcionando como un objeto de tipo series, en orden ascendente (no hace falta aclarar parámetros ya que es el default de la función).\n",
        "print(df5) #Imprimimos el resultado."
      ],
      "metadata": {
        "colab": {
          "base_uri": "https://localhost:8080/"
        },
        "id": "-K2pw0Zu5w5o",
        "outputId": "5f879067-1390-43f2-dd5f-ef4432d5862d"
      },
      "execution_count": null,
      "outputs": [
        {
          "output_type": "stream",
          "name": "stdout",
          "text": [
            "3850          Fair\n",
            "51464         Fair\n",
            "51466         Fair\n",
            "10237         Fair\n",
            "10760         Fair\n",
            "           ...    \n",
            "7402     Very Good\n",
            "43101    Very Good\n",
            "16893    Very Good\n",
            "16898    Very Good\n",
            "21164    Very Good\n",
            "Name: cut, Length: 53940, dtype: object\n"
          ]
        }
      ]
    },
    {
      "cell_type": "markdown",
      "source": [
        "**11)\tOrdenar toda la base por 'carat' en orden descendente.**"
      ],
      "metadata": {
        "id": "8Y4Cjzef7wCz"
      }
    },
    {
      "cell_type": "code",
      "source": [
        "df6 = df.sort_values(by=['carat'], ascending=False) #Ordenamos toda la base según la columa carat. Ahora si aclaramos que el parámetro ascending, True por default, debe ser False. \n",
        "print(df6) #Imprimimos el resultado."
      ],
      "metadata": {
        "colab": {
          "base_uri": "https://localhost:8080/"
        },
        "id": "w8ZYcdAI8FUp",
        "outputId": "b57cdcb8-d92b-4aed-d941-af47cd91903f"
      },
      "execution_count": null,
      "outputs": [
        {
          "output_type": "stream",
          "name": "stdout",
          "text": [
            "       carat      cut color clarity  depth  table  price      x      y     z\n",
            "27415   5.01     Fair     J      I1   65.5   59.0  18018  10.74  10.54  6.98\n",
            "27630   4.50     Fair     J      I1   65.8   58.0  18531  10.23  10.16  6.72\n",
            "27130   4.13     Fair     H      I1   64.8   61.0  17329  10.00   9.85  6.43\n",
            "25999   4.01  Premium     J      I1   62.5   62.0  15223  10.02   9.94  6.24\n",
            "25998   4.01  Premium     I      I1   61.0   61.0  15223  10.14  10.10  6.17\n",
            "...      ...      ...   ...     ...    ...    ...    ...    ...    ...   ...\n",
            "31592   0.20  Premium     E     VS2   59.0   60.0    367   3.81   3.78  2.24\n",
            "31591   0.20  Premium     E     VS2   59.8   62.0    367   3.79   3.77  2.26\n",
            "31601   0.20  Premium     D     VS2   61.7   60.0    367   3.77   3.72  2.31\n",
            "14      0.20  Premium     E     SI2   60.2   62.0    345   3.79   3.75  2.27\n",
            "31596   0.20  Premium     F     VS2   62.6   59.0    367   3.73   3.71  2.33\n",
            "\n",
            "[53940 rows x 10 columns]\n"
          ]
        }
      ]
    },
    {
      "cell_type": "markdown",
      "source": [
        "**12)\tFiltrar aquellas filas que x>5, y>5 y z>5.**"
      ],
      "metadata": {
        "id": "-Biu0Auo9LBy"
      }
    },
    {
      "cell_type": "code",
      "source": [
        "df7 = df[(df['x'] > 5) & (df['y'] > 5) & (df['z'] > 5)] #Filtramos la base original teniendo en cuenta las 3 condiciones.\n",
        "print(df7) #Imprimimos los resultados."
      ],
      "metadata": {
        "colab": {
          "base_uri": "https://localhost:8080/"
        },
        "id": "JtoZMVK89S4i",
        "outputId": "59be3229-4652-4089-c608-6a7655725176"
      },
      "execution_count": null,
      "outputs": [
        {
          "output_type": "stream",
          "name": "stdout",
          "text": [
            "       carat        cut color clarity  depth  table  price     x      y      z\n",
            "11778   1.83       Fair     J      I1   70.0   58.0   5083  7.34   7.28   5.12\n",
            "13002   2.14       Fair     J      I1   69.4   57.0   5405  7.74   7.70   5.36\n",
            "13118   2.15       Fair     J      I1   65.5   57.0   5430  8.01   7.95   5.23\n",
            "13562   1.96       Fair     F      I1   66.6   60.0   5554  7.59   7.56   5.04\n",
            "13757   2.22       Fair     J      I1   66.7   56.0   5607  8.04   8.02   5.36\n",
            "...      ...        ...   ...     ...    ...    ...    ...   ...    ...    ...\n",
            "27748   2.00  Very Good     G     SI1   63.5   56.0  18818  7.90   7.97   5.04\n",
            "27749   2.29    Premium     I     VS2   60.8   60.0  18823  8.50   8.47   5.16\n",
            "48410   0.51  Very Good     E     VS1   61.8   54.7   1970  5.12   5.15  31.80\n",
            "49189   0.51      Ideal     E     VS1   61.8   55.0   2075  5.15  31.80   5.12\n",
            "49905   0.50  Very Good     G    VVS1   63.7   58.0   2180  5.01   5.04   5.06\n",
            "\n",
            "[1457 rows x 10 columns]\n"
          ]
        }
      ]
    },
    {
      "cell_type": "markdown",
      "source": [
        "**13)\tFiltrar las filas para que sólo muestren 'carat' mayor a 0,4.**"
      ],
      "metadata": {
        "id": "uqwNS9tMAOK1"
      }
    },
    {
      "cell_type": "code",
      "source": [
        "df8 = df[(df['carat'] > 0.4)] #Filtramos las filas de la base original para solo quedarnos con aquellas donde 'carat' es mayor a 0,4.\n",
        "print(df8) #Imprimimos los resultados."
      ],
      "metadata": {
        "id": "aqaNA3CvASxX",
        "colab": {
          "base_uri": "https://localhost:8080/"
        },
        "outputId": "5d74abac-3af1-430d-e943-e25e4a968d52"
      },
      "execution_count": 168,
      "outputs": [
        {
          "output_type": "stream",
          "name": "stdout",
          "text": [
            "       carat        cut color clarity  depth  table  price     x     y     z\n",
            "64      0.42    Premium     I     SI2   61.5   59.0    552  4.78  4.84  2.96\n",
            "90      0.70      Ideal     E     SI1   62.5   57.0   2757  5.70  5.72  3.57\n",
            "91      0.86       Fair     E     SI2   55.1   69.0   2757  6.45  6.33  3.52\n",
            "92      0.70      Ideal     G     VS2   61.6   56.0   2757  5.70  5.67  3.50\n",
            "93      0.71  Very Good     E     VS2   62.4   57.0   2759  5.68  5.73  3.56\n",
            "...      ...        ...   ...     ...    ...    ...    ...   ...   ...   ...\n",
            "53935   0.72      Ideal     D     SI1   60.8   57.0   2757  5.75  5.76  3.50\n",
            "53936   0.72       Good     D     SI1   63.1   55.0   2757  5.69  5.75  3.61\n",
            "53937   0.70  Very Good     D     SI1   62.8   60.0   2757  5.66  5.68  3.56\n",
            "53938   0.86    Premium     H     SI2   61.0   58.0   2757  6.15  6.12  3.74\n",
            "53939   0.75      Ideal     D     SI2   62.2   55.0   2757  5.83  5.87  3.64\n",
            "\n",
            "[39549 rows x 10 columns]\n"
          ]
        }
      ]
    },
    {
      "cell_type": "markdown",
      "source": [
        "**14)\tFiltrar filas que son Premium o Ideal.**"
      ],
      "metadata": {
        "id": "DdWkV8dLOLLF"
      }
    },
    {
      "cell_type": "code",
      "source": [
        "df9 = df[(df['cut'] == 'Premium') | (df['cut'] == 'Ideal')] #Filtramos las filas para que se cumpla una condición o la otra, con el operador |.\n",
        "print(df9) #Imprimimos los resultados."
      ],
      "metadata": {
        "colab": {
          "base_uri": "https://localhost:8080/"
        },
        "id": "tZxmxkTiOUey",
        "outputId": "2d2d379e-ea69-4eba-e57d-ee49879d20ad"
      },
      "execution_count": 171,
      "outputs": [
        {
          "output_type": "stream",
          "name": "stdout",
          "text": [
            "       carat      cut color clarity  depth  table  price     x     y     z\n",
            "0       0.23    Ideal     E     SI2   61.5   55.0    326  3.95  3.98  2.43\n",
            "1       0.21  Premium     E     SI1   59.8   61.0    326  3.89  3.84  2.31\n",
            "3       0.29  Premium     I     VS2   62.4   58.0    334  4.20  4.23  2.63\n",
            "11      0.23    Ideal     J     VS1   62.8   56.0    340  3.93  3.90  2.46\n",
            "12      0.22  Premium     F     SI1   60.4   61.0    342  3.88  3.84  2.33\n",
            "...      ...      ...   ...     ...    ...    ...    ...   ...   ...   ...\n",
            "53931   0.71  Premium     F     SI1   59.8   62.0   2756  5.74  5.73  3.43\n",
            "53934   0.72  Premium     D     SI1   62.7   59.0   2757  5.69  5.73  3.58\n",
            "53935   0.72    Ideal     D     SI1   60.8   57.0   2757  5.75  5.76  3.50\n",
            "53938   0.86  Premium     H     SI2   61.0   58.0   2757  6.15  6.12  3.74\n",
            "53939   0.75    Ideal     D     SI2   62.2   55.0   2757  5.83  5.87  3.64\n",
            "\n",
            "[35342 rows x 10 columns]\n"
          ]
        }
      ]
    },
    {
      "cell_type": "markdown",
      "source": [
        "**15)\tCalcular summary statistics de  'carat'.**"
      ],
      "metadata": {
        "id": "BIbBBtTFOyeD"
      }
    },
    {
      "cell_type": "code",
      "source": [
        "print(df.carat.describe()) #Imprimimos el resultado de usar la función .describe() en la columna 'carat' del dataframe original."
      ],
      "metadata": {
        "colab": {
          "base_uri": "https://localhost:8080/"
        },
        "id": "WofgoORcO2xq",
        "outputId": "36e238ee-ece9-4af8-b683-c3e7f2e0cbb6"
      },
      "execution_count": 173,
      "outputs": [
        {
          "output_type": "stream",
          "name": "stdout",
          "text": [
            "count    53940.000000\n",
            "mean         0.797940\n",
            "std          0.474011\n",
            "min          0.200000\n",
            "25%          0.400000\n",
            "50%          0.700000\n",
            "75%          1.040000\n",
            "max          5.010000\n",
            "Name: carat, dtype: float64\n"
          ]
        }
      ]
    },
    {
      "cell_type": "markdown",
      "source": [
        "**16)\tCalcular la media de cada columna numérica.**"
      ],
      "metadata": {
        "id": "DR_PFQeZPXgZ"
      }
    },
    {
      "cell_type": "code",
      "source": [
        "print(df.mean(numeric_only=True)) #Imprimimos el resultado de usar la función .mean(), pasando como parámetro que solo trabaje con columnas numéricas."
      ],
      "metadata": {
        "colab": {
          "base_uri": "https://localhost:8080/"
        },
        "id": "dg8DMbvmPcwP",
        "outputId": "1def2402-b0f7-4c34-e57a-7ff265d24171"
      },
      "execution_count": 183,
      "outputs": [
        {
          "output_type": "stream",
          "name": "stdout",
          "text": [
            "carat       0.797940\n",
            "depth      61.749405\n",
            "table      57.457184\n",
            "price    3932.799722\n",
            "x           5.731157\n",
            "y           5.734559\n",
            "z           3.538734\n",
            "dtype: float64\n"
          ]
        }
      ]
    }
  ]
}