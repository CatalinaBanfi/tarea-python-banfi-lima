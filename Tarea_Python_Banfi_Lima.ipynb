{
  "nbformat": 4,
  "nbformat_minor": 0,
  "metadata": {
    "colab": {
      "name": "Tarea_Python_Banfi_Lima.ipynb",
      "provenance": [],
      "authorship_tag": "ABX9TyOlruIjQlL0vpZApbyCYXVb",
      "include_colab_link": true
    },
    "kernelspec": {
      "name": "python3",
      "display_name": "Python 3"
    },
    "language_info": {
      "name": "python"
    }
  },
  "cells": [
    {
      "cell_type": "markdown",
      "metadata": {
        "id": "view-in-github",
        "colab_type": "text"
      },
      "source": [
        "<a href=\"https://colab.research.google.com/github/limamatias/tarea-python-banfi-lima/blob/main/Tarea_Python_Banfi_Lima.ipynb\" target=\"_parent\"><img src=\"https://colab.research.google.com/assets/colab-badge.svg\" alt=\"Open In Colab\"/></a>"
      ]
    },
    {
      "cell_type": "code",
      "execution_count": 1,
      "metadata": {
        "colab": {
          "base_uri": "https://localhost:8080/"
        },
        "id": "Wm2U89BLrtvs",
        "outputId": "8a37d4da-e7b0-4101-e0ee-def6eedc4919"
      },
      "outputs": [
        {
          "output_type": "stream",
          "name": "stdout",
          "text": [
            "   carat      cut color clarity  depth  table  price     x     y     z\n",
            "0   0.23    Ideal     E     SI2   61.5   55.0    326  3.95  3.98  2.43\n",
            "1   0.21  Premium     E     SI1   59.8   61.0    326  3.89  3.84  2.31\n",
            "2   0.23     Good     E     VS1   56.9   65.0    327  4.05  4.07  2.31\n",
            "3   0.29  Premium     I     VS2   62.4   58.0    334  4.20  4.23  2.63\n",
            "4   0.31     Good     J     SI2   63.3   58.0    335  4.34  4.35  2.75\n"
          ]
        }
      ],
      "source": [
        "'''\n",
        "    Tarea 1 (Python) - Catalina Banfi y MatÃ­as Lima\n",
        "'''\n",
        "\n",
        "import pandas as pd #Importamos el paquete pandas\n",
        "\n",
        "url = 'https://raw.githubusercontent.com/limamatias/tarea-python-banfi-lima/main/tarea.csv' #Llamamos el link raw del archivo subido a GitHub con la base de datos de la tarea\n",
        "\n",
        "df = pd.read_csv(url)\n",
        "\n",
        "#1. Leer el archivo CSV “tarea” y mostrar las primeras 5 filas.\n",
        "\n",
        "print(df.head(5)) #"
      ]
    },
    {
      "cell_type": "code",
      "source": [
        ""
      ],
      "metadata": {
        "id": "Oo97mbBAtZ-N"
      },
      "execution_count": null,
      "outputs": []
    }
  ]
}